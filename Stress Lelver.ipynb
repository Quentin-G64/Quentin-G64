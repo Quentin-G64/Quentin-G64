{
 "cells": [
  {
   "cell_type": "markdown",
   "id": "45a31f93",
   "metadata": {},
   "source": [
    "   > ## Importation des librairies:"
   ]
  },
  {
   "cell_type": "code",
   "execution_count": 1,
   "id": "67b14ecf",
   "metadata": {},
   "outputs": [],
   "source": [
    "import numpy as np\n",
    "import pandas as pd\n",
    "import matplotlib.pyplot as plt\n",
    "import seaborn as sns\n",
    "%matplotlib inline\n"
   ]
  },
  {
   "cell_type": "markdown",
   "id": "1cb2c978",
   "metadata": {},
   "source": [
    "> ## Importation des algorithmes:"
   ]
  },
  {
   "cell_type": "code",
   "execution_count": 2,
   "id": "71034fb4",
   "metadata": {},
   "outputs": [],
   "source": [
    "from sklearn import datasets, linear_model \n",
    "from sklearn.metrics import mean_squared_error"
   ]
  },
  {
   "cell_type": "markdown",
   "id": "6d9b78f5",
   "metadata": {},
   "source": [
    "> ## Importation du jeu de donnees et description:"
   ]
  },
  {
   "cell_type": "code",
   "execution_count": 3,
   "id": "94b8867b",
   "metadata": {},
   "outputs": [],
   "source": [
    "Stress = pd.read_excel (r\"C:\\Users\\Utilisateur\\Documents\\Master 2\\Machine Learning\\BDD.xlsx\")"
   ]
  },
  {
   "cell_type": "markdown",
   "id": "5dd12ffe",
   "metadata": {},
   "source": [
    " > ## Importation du jeu de donnees et description:"
   ]
  },
  {
   "cell_type": "code",
   "execution_count": 4,
   "id": "a40c11eb",
   "metadata": {
    "scrolled": false
   },
   "outputs": [
    {
     "data": {
      "text/plain": [
       "<bound method NDFrame.keys of         tl      sr      rr     hr      bo     rem      lm       t  sl\n",
       "0    1.840  93.800  25.680  74.20  89.840   99.60  16.600  91.840   3\n",
       "1    1.552  91.640  25.104  72.76  89.552   98.88  15.880  91.552   3\n",
       "2    7.000  60.000  20.000  60.00  95.000   85.00  10.000  96.000   1\n",
       "3    0.768  85.760  23.536  68.84  88.768   96.92  13.920  90.768   3\n",
       "4    8.248  48.120  17.248  53.12  96.248   72.48   6.496  97.872   0\n",
       "..     ...     ...     ...    ...     ...     ...     ...     ...  ..\n",
       "625  3.440  69.600  20.960  62.40  90.960   89.80  10.960  92.960   2\n",
       "626  8.376  48.440  17.376  53.44  96.376   73.76   6.752  98.064   0\n",
       "627  0.000  97.504  27.504  78.76  84.256  101.88  17.752  86.880   4\n",
       "628  6.728  58.640  19.728  59.32  94.592   84.32   9.728  95.728   1\n",
       "629  4.088  73.920  21.392  63.48  91.392   91.96  11.392  93.392   2\n",
       "\n",
       "[630 rows x 9 columns]>"
      ]
     },
     "execution_count": 4,
     "metadata": {},
     "output_type": "execute_result"
    }
   ],
   "source": [
    "Stress.keys"
   ]
  },
  {
   "cell_type": "code",
   "execution_count": 5,
   "id": "80ae3809",
   "metadata": {},
   "outputs": [
    {
     "name": "stdout",
     "output_type": "stream",
     "text": [
      "0      93.800\n",
      "1      91.640\n",
      "2      60.000\n",
      "3      85.760\n",
      "4      48.120\n",
      "        ...  \n",
      "625    69.600\n",
      "626    48.440\n",
      "627    97.504\n",
      "628    58.640\n",
      "629    73.920\n",
      "Name: sr, Length: 630, dtype: float64\n",
      "0    3\n",
      "1    3\n",
      "2    1\n",
      "Name: sl, dtype: int64\n"
     ]
    }
   ],
   "source": [
    "print (Stress.sr)\n",
    "print (Stress.sl[0:3])"
   ]
  },
  {
   "cell_type": "code",
   "execution_count": 6,
   "id": "519e0913",
   "metadata": {},
   "outputs": [
    {
     "data": {
      "text/html": [
       "<div>\n",
       "<style scoped>\n",
       "    .dataframe tbody tr th:only-of-type {\n",
       "        vertical-align: middle;\n",
       "    }\n",
       "\n",
       "    .dataframe tbody tr th {\n",
       "        vertical-align: top;\n",
       "    }\n",
       "\n",
       "    .dataframe thead th {\n",
       "        text-align: right;\n",
       "    }\n",
       "</style>\n",
       "<table border=\"1\" class=\"dataframe\">\n",
       "  <thead>\n",
       "    <tr style=\"text-align: right;\">\n",
       "      <th></th>\n",
       "      <th>tl</th>\n",
       "      <th>sr</th>\n",
       "      <th>rr</th>\n",
       "      <th>hr</th>\n",
       "      <th>bo</th>\n",
       "      <th>rem</th>\n",
       "      <th>lm</th>\n",
       "      <th>t</th>\n",
       "      <th>sl</th>\n",
       "    </tr>\n",
       "  </thead>\n",
       "  <tbody>\n",
       "    <tr>\n",
       "      <th>0</th>\n",
       "      <td>1.840</td>\n",
       "      <td>93.80</td>\n",
       "      <td>25.680</td>\n",
       "      <td>74.20</td>\n",
       "      <td>89.840</td>\n",
       "      <td>99.60</td>\n",
       "      <td>16.600</td>\n",
       "      <td>91.840</td>\n",
       "      <td>3</td>\n",
       "    </tr>\n",
       "    <tr>\n",
       "      <th>1</th>\n",
       "      <td>1.552</td>\n",
       "      <td>91.64</td>\n",
       "      <td>25.104</td>\n",
       "      <td>72.76</td>\n",
       "      <td>89.552</td>\n",
       "      <td>98.88</td>\n",
       "      <td>15.880</td>\n",
       "      <td>91.552</td>\n",
       "      <td>3</td>\n",
       "    </tr>\n",
       "    <tr>\n",
       "      <th>2</th>\n",
       "      <td>7.000</td>\n",
       "      <td>60.00</td>\n",
       "      <td>20.000</td>\n",
       "      <td>60.00</td>\n",
       "      <td>95.000</td>\n",
       "      <td>85.00</td>\n",
       "      <td>10.000</td>\n",
       "      <td>96.000</td>\n",
       "      <td>1</td>\n",
       "    </tr>\n",
       "    <tr>\n",
       "      <th>3</th>\n",
       "      <td>0.768</td>\n",
       "      <td>85.76</td>\n",
       "      <td>23.536</td>\n",
       "      <td>68.84</td>\n",
       "      <td>88.768</td>\n",
       "      <td>96.92</td>\n",
       "      <td>13.920</td>\n",
       "      <td>90.768</td>\n",
       "      <td>3</td>\n",
       "    </tr>\n",
       "    <tr>\n",
       "      <th>4</th>\n",
       "      <td>8.248</td>\n",
       "      <td>48.12</td>\n",
       "      <td>17.248</td>\n",
       "      <td>53.12</td>\n",
       "      <td>96.248</td>\n",
       "      <td>72.48</td>\n",
       "      <td>6.496</td>\n",
       "      <td>97.872</td>\n",
       "      <td>0</td>\n",
       "    </tr>\n",
       "  </tbody>\n",
       "</table>\n",
       "</div>"
      ],
      "text/plain": [
       "      tl     sr      rr     hr      bo    rem      lm       t  sl\n",
       "0  1.840  93.80  25.680  74.20  89.840  99.60  16.600  91.840   3\n",
       "1  1.552  91.64  25.104  72.76  89.552  98.88  15.880  91.552   3\n",
       "2  7.000  60.00  20.000  60.00  95.000  85.00  10.000  96.000   1\n",
       "3  0.768  85.76  23.536  68.84  88.768  96.92  13.920  90.768   3\n",
       "4  8.248  48.12  17.248  53.12  96.248  72.48   6.496  97.872   0"
      ]
     },
     "execution_count": 6,
     "metadata": {},
     "output_type": "execute_result"
    }
   ],
   "source": [
    "Stress.head()"
   ]
  },
  {
   "cell_type": "code",
   "execution_count": 7,
   "id": "97c2bc7e",
   "metadata": {},
   "outputs": [
    {
     "name": "stdout",
     "output_type": "stream",
     "text": [
      "Index(['tl', 'sr', 'rr', 'hr', 'bo', 'rem', 'lm', 't', 'sl'], dtype='object')\n"
     ]
    }
   ],
   "source": [
    "print(Stress.columns)"
   ]
  },
  {
   "cell_type": "code",
   "execution_count": 8,
   "id": "d7b95b17",
   "metadata": {},
   "outputs": [
    {
     "data": {
      "text/html": [
       "<div>\n",
       "<style scoped>\n",
       "    .dataframe tbody tr th:only-of-type {\n",
       "        vertical-align: middle;\n",
       "    }\n",
       "\n",
       "    .dataframe tbody tr th {\n",
       "        vertical-align: top;\n",
       "    }\n",
       "\n",
       "    .dataframe thead th {\n",
       "        text-align: right;\n",
       "    }\n",
       "</style>\n",
       "<table border=\"1\" class=\"dataframe\">\n",
       "  <thead>\n",
       "    <tr style=\"text-align: right;\">\n",
       "      <th></th>\n",
       "      <th>tl</th>\n",
       "      <th>sr</th>\n",
       "      <th>rr</th>\n",
       "      <th>hr</th>\n",
       "      <th>bo</th>\n",
       "      <th>rem</th>\n",
       "      <th>lm</th>\n",
       "      <th>t</th>\n",
       "      <th>sl</th>\n",
       "    </tr>\n",
       "  </thead>\n",
       "  <tbody>\n",
       "    <tr>\n",
       "      <th>count</th>\n",
       "      <td>630.000000</td>\n",
       "      <td>630.000000</td>\n",
       "      <td>630.000000</td>\n",
       "      <td>630.000000</td>\n",
       "      <td>630.000000</td>\n",
       "      <td>630.000000</td>\n",
       "      <td>630.000000</td>\n",
       "      <td>630.00000</td>\n",
       "      <td>630.000000</td>\n",
       "    </tr>\n",
       "    <tr>\n",
       "      <th>mean</th>\n",
       "      <td>3.700000</td>\n",
       "      <td>71.600000</td>\n",
       "      <td>21.800000</td>\n",
       "      <td>64.500000</td>\n",
       "      <td>90.900000</td>\n",
       "      <td>88.500000</td>\n",
       "      <td>11.700000</td>\n",
       "      <td>92.80000</td>\n",
       "      <td>2.000000</td>\n",
       "    </tr>\n",
       "    <tr>\n",
       "      <th>std</th>\n",
       "      <td>3.054572</td>\n",
       "      <td>19.372833</td>\n",
       "      <td>3.966111</td>\n",
       "      <td>9.915277</td>\n",
       "      <td>3.902483</td>\n",
       "      <td>11.893747</td>\n",
       "      <td>4.299629</td>\n",
       "      <td>3.52969</td>\n",
       "      <td>1.415337</td>\n",
       "    </tr>\n",
       "    <tr>\n",
       "      <th>min</th>\n",
       "      <td>0.000000</td>\n",
       "      <td>45.000000</td>\n",
       "      <td>16.000000</td>\n",
       "      <td>50.000000</td>\n",
       "      <td>82.000000</td>\n",
       "      <td>60.000000</td>\n",
       "      <td>4.000000</td>\n",
       "      <td>85.00000</td>\n",
       "      <td>0.000000</td>\n",
       "    </tr>\n",
       "    <tr>\n",
       "      <th>25%</th>\n",
       "      <td>0.500000</td>\n",
       "      <td>52.500000</td>\n",
       "      <td>18.500000</td>\n",
       "      <td>56.250000</td>\n",
       "      <td>88.500000</td>\n",
       "      <td>81.250000</td>\n",
       "      <td>8.500000</td>\n",
       "      <td>90.50000</td>\n",
       "      <td>1.000000</td>\n",
       "    </tr>\n",
       "    <tr>\n",
       "      <th>50%</th>\n",
       "      <td>3.500000</td>\n",
       "      <td>70.000000</td>\n",
       "      <td>21.000000</td>\n",
       "      <td>62.500000</td>\n",
       "      <td>91.000000</td>\n",
       "      <td>90.000000</td>\n",
       "      <td>11.000000</td>\n",
       "      <td>93.00000</td>\n",
       "      <td>2.000000</td>\n",
       "    </tr>\n",
       "    <tr>\n",
       "      <th>75%</th>\n",
       "      <td>6.500000</td>\n",
       "      <td>91.250000</td>\n",
       "      <td>25.000000</td>\n",
       "      <td>72.500000</td>\n",
       "      <td>94.250000</td>\n",
       "      <td>98.750000</td>\n",
       "      <td>15.750000</td>\n",
       "      <td>95.50000</td>\n",
       "      <td>3.000000</td>\n",
       "    </tr>\n",
       "    <tr>\n",
       "      <th>max</th>\n",
       "      <td>9.000000</td>\n",
       "      <td>100.000000</td>\n",
       "      <td>30.000000</td>\n",
       "      <td>85.000000</td>\n",
       "      <td>97.000000</td>\n",
       "      <td>105.000000</td>\n",
       "      <td>19.000000</td>\n",
       "      <td>99.00000</td>\n",
       "      <td>4.000000</td>\n",
       "    </tr>\n",
       "  </tbody>\n",
       "</table>\n",
       "</div>"
      ],
      "text/plain": [
       "               tl          sr          rr          hr          bo         rem  \\\n",
       "count  630.000000  630.000000  630.000000  630.000000  630.000000  630.000000   \n",
       "mean     3.700000   71.600000   21.800000   64.500000   90.900000   88.500000   \n",
       "std      3.054572   19.372833    3.966111    9.915277    3.902483   11.893747   \n",
       "min      0.000000   45.000000   16.000000   50.000000   82.000000   60.000000   \n",
       "25%      0.500000   52.500000   18.500000   56.250000   88.500000   81.250000   \n",
       "50%      3.500000   70.000000   21.000000   62.500000   91.000000   90.000000   \n",
       "75%      6.500000   91.250000   25.000000   72.500000   94.250000   98.750000   \n",
       "max      9.000000  100.000000   30.000000   85.000000   97.000000  105.000000   \n",
       "\n",
       "               lm          t          sl  \n",
       "count  630.000000  630.00000  630.000000  \n",
       "mean    11.700000   92.80000    2.000000  \n",
       "std      4.299629    3.52969    1.415337  \n",
       "min      4.000000   85.00000    0.000000  \n",
       "25%      8.500000   90.50000    1.000000  \n",
       "50%     11.000000   93.00000    2.000000  \n",
       "75%     15.750000   95.50000    3.000000  \n",
       "max     19.000000   99.00000    4.000000  "
      ]
     },
     "execution_count": 8,
     "metadata": {},
     "output_type": "execute_result"
    }
   ],
   "source": [
    "Stress.describe()"
   ]
  },
  {
   "cell_type": "code",
   "execution_count": 9,
   "id": "5b8116cb",
   "metadata": {},
   "outputs": [],
   "source": [
    "x = Stress.columns[0:8]\n",
    "y = Stress.columns[8]"
   ]
  },
  {
   "cell_type": "code",
   "execution_count": 10,
   "id": "a663c4b7",
   "metadata": {
    "scrolled": true
   },
   "outputs": [
    {
     "name": "stdout",
     "output_type": "stream",
     "text": [
      "Index(['tl', 'sr', 'rr', 'hr', 'bo', 'rem', 'lm', 't'], dtype='object')\n"
     ]
    }
   ],
   "source": [
    "print(x)"
   ]
  },
  {
   "cell_type": "code",
   "execution_count": 11,
   "id": "28eeded5",
   "metadata": {},
   "outputs": [
    {
     "name": "stdout",
     "output_type": "stream",
     "text": [
      "sl\n"
     ]
    }
   ],
   "source": [
    "print(y)"
   ]
  },
  {
   "cell_type": "code",
   "execution_count": 12,
   "id": "dcfbdae8",
   "metadata": {},
   "outputs": [
    {
     "data": {
      "text/plain": [
       "tl     float64\n",
       "sr     float64\n",
       "rr     float64\n",
       "hr     float64\n",
       "bo     float64\n",
       "rem    float64\n",
       "lm     float64\n",
       "t      float64\n",
       "sl       int64\n",
       "dtype: object"
      ]
     },
     "execution_count": 12,
     "metadata": {},
     "output_type": "execute_result"
    }
   ],
   "source": [
    "Stress.dtypes"
   ]
  },
  {
   "cell_type": "code",
   "execution_count": null,
   "id": "010ae93c",
   "metadata": {},
   "outputs": [],
   "source": [
    "from sklearn.preprocessing import StandardScaler"
   ]
  },
  {
   "cell_type": "code",
   "execution_count": null,
   "id": "53b7bc71",
   "metadata": {},
   "outputs": [],
   "source": [
    "scaler = StandardScaler()\n",
    "scaled_data = scaler.fit_transform(x)\n",
    "Xs = pd.DataFrame(data=Xs, columns=[0][:8])\n",
    "Xs.describe()\n",
    "Xs.head()"
   ]
  },
  {
   "cell_type": "markdown",
   "id": "921215e2",
   "metadata": {},
   "source": [
    "> ## Demarrage de la phase d'apprentissage: \n"
   ]
  },
  {
   "cell_type": "code",
   "execution_count": 13,
   "id": "2e685856",
   "metadata": {},
   "outputs": [],
   "source": [
    "from sklearn.model_selection import train_test_split "
   ]
  },
  {
   "cell_type": "code",
   "execution_count": 16,
   "id": "05643270",
   "metadata": {
    "scrolled": true
   },
   "outputs": [
    {
     "ename": "ValueError",
     "evalue": "Found input variables with inconsistent numbers of samples: [8, 2]",
     "output_type": "error",
     "traceback": [
      "\u001b[1;31m---------------------------------------------------------------------------\u001b[0m",
      "\u001b[1;31mValueError\u001b[0m                                Traceback (most recent call last)",
      "\u001b[1;32mC:\\Users\\UTILIS~1\\AppData\\Local\\Temp/ipykernel_4688/3885433287.py\u001b[0m in \u001b[0;36m<module>\u001b[1;34m\u001b[0m\n\u001b[1;32m----> 1\u001b[1;33m \u001b[0mx_train\u001b[0m\u001b[1;33m,\u001b[0m \u001b[0mx_test\u001b[0m\u001b[1;33m,\u001b[0m \u001b[0my_train\u001b[0m\u001b[1;33m,\u001b[0m \u001b[0my_test\u001b[0m \u001b[1;33m=\u001b[0m \u001b[0mtrain_test_split\u001b[0m \u001b[1;33m(\u001b[0m\u001b[0mx\u001b[0m\u001b[1;33m,\u001b[0m \u001b[0my\u001b[0m\u001b[1;33m,\u001b[0m \u001b[0mtest_size\u001b[0m\u001b[1;33m=\u001b[0m\u001b[1;36m0.2\u001b[0m\u001b[1;33m)\u001b[0m\u001b[1;33m\u001b[0m\u001b[1;33m\u001b[0m\u001b[0m\n\u001b[0m",
      "\u001b[1;32m~\\anaconda3\\lib\\site-packages\\sklearn\\model_selection\\_split.py\u001b[0m in \u001b[0;36mtrain_test_split\u001b[1;34m(test_size, train_size, random_state, shuffle, stratify, *arrays)\u001b[0m\n\u001b[0;32m   2170\u001b[0m         \u001b[1;32mraise\u001b[0m \u001b[0mValueError\u001b[0m\u001b[1;33m(\u001b[0m\u001b[1;34m\"At least one array required as input\"\u001b[0m\u001b[1;33m)\u001b[0m\u001b[1;33m\u001b[0m\u001b[1;33m\u001b[0m\u001b[0m\n\u001b[0;32m   2171\u001b[0m \u001b[1;33m\u001b[0m\u001b[0m\n\u001b[1;32m-> 2172\u001b[1;33m     \u001b[0marrays\u001b[0m \u001b[1;33m=\u001b[0m \u001b[0mindexable\u001b[0m\u001b[1;33m(\u001b[0m\u001b[1;33m*\u001b[0m\u001b[0marrays\u001b[0m\u001b[1;33m)\u001b[0m\u001b[1;33m\u001b[0m\u001b[1;33m\u001b[0m\u001b[0m\n\u001b[0m\u001b[0;32m   2173\u001b[0m \u001b[1;33m\u001b[0m\u001b[0m\n\u001b[0;32m   2174\u001b[0m     \u001b[0mn_samples\u001b[0m \u001b[1;33m=\u001b[0m \u001b[0m_num_samples\u001b[0m\u001b[1;33m(\u001b[0m\u001b[0marrays\u001b[0m\u001b[1;33m[\u001b[0m\u001b[1;36m0\u001b[0m\u001b[1;33m]\u001b[0m\u001b[1;33m)\u001b[0m\u001b[1;33m\u001b[0m\u001b[1;33m\u001b[0m\u001b[0m\n",
      "\u001b[1;32m~\\anaconda3\\lib\\site-packages\\sklearn\\utils\\validation.py\u001b[0m in \u001b[0;36mindexable\u001b[1;34m(*iterables)\u001b[0m\n\u001b[0;32m    354\u001b[0m     \"\"\"\n\u001b[0;32m    355\u001b[0m     \u001b[0mresult\u001b[0m \u001b[1;33m=\u001b[0m \u001b[1;33m[\u001b[0m\u001b[0m_make_indexable\u001b[0m\u001b[1;33m(\u001b[0m\u001b[0mX\u001b[0m\u001b[1;33m)\u001b[0m \u001b[1;32mfor\u001b[0m \u001b[0mX\u001b[0m \u001b[1;32min\u001b[0m \u001b[0miterables\u001b[0m\u001b[1;33m]\u001b[0m\u001b[1;33m\u001b[0m\u001b[1;33m\u001b[0m\u001b[0m\n\u001b[1;32m--> 356\u001b[1;33m     \u001b[0mcheck_consistent_length\u001b[0m\u001b[1;33m(\u001b[0m\u001b[1;33m*\u001b[0m\u001b[0mresult\u001b[0m\u001b[1;33m)\u001b[0m\u001b[1;33m\u001b[0m\u001b[1;33m\u001b[0m\u001b[0m\n\u001b[0m\u001b[0;32m    357\u001b[0m     \u001b[1;32mreturn\u001b[0m \u001b[0mresult\u001b[0m\u001b[1;33m\u001b[0m\u001b[1;33m\u001b[0m\u001b[0m\n\u001b[0;32m    358\u001b[0m \u001b[1;33m\u001b[0m\u001b[0m\n",
      "\u001b[1;32m~\\anaconda3\\lib\\site-packages\\sklearn\\utils\\validation.py\u001b[0m in \u001b[0;36mcheck_consistent_length\u001b[1;34m(*arrays)\u001b[0m\n\u001b[0;32m    317\u001b[0m     \u001b[0muniques\u001b[0m \u001b[1;33m=\u001b[0m \u001b[0mnp\u001b[0m\u001b[1;33m.\u001b[0m\u001b[0munique\u001b[0m\u001b[1;33m(\u001b[0m\u001b[0mlengths\u001b[0m\u001b[1;33m)\u001b[0m\u001b[1;33m\u001b[0m\u001b[1;33m\u001b[0m\u001b[0m\n\u001b[0;32m    318\u001b[0m     \u001b[1;32mif\u001b[0m \u001b[0mlen\u001b[0m\u001b[1;33m(\u001b[0m\u001b[0muniques\u001b[0m\u001b[1;33m)\u001b[0m \u001b[1;33m>\u001b[0m \u001b[1;36m1\u001b[0m\u001b[1;33m:\u001b[0m\u001b[1;33m\u001b[0m\u001b[1;33m\u001b[0m\u001b[0m\n\u001b[1;32m--> 319\u001b[1;33m         raise ValueError(\"Found input variables with inconsistent numbers of\"\n\u001b[0m\u001b[0;32m    320\u001b[0m                          \" samples: %r\" % [int(l) for l in lengths])\n\u001b[0;32m    321\u001b[0m \u001b[1;33m\u001b[0m\u001b[0m\n",
      "\u001b[1;31mValueError\u001b[0m: Found input variables with inconsistent numbers of samples: [8, 2]"
     ]
    }
   ],
   "source": [
    "x_train, x_test, y_train, y_test = train_test_split (x, y, test_size=0.2)"
   ]
  },
  {
   "cell_type": "code",
   "execution_count": null,
   "id": "2e46379c",
   "metadata": {},
   "outputs": [],
   "source": []
  }
 ],
 "metadata": {
  "kernelspec": {
   "display_name": "Python 3 (ipykernel)",
   "language": "python",
   "name": "python3"
  },
  "language_info": {
   "codemirror_mode": {
    "name": "ipython",
    "version": 3
   },
   "file_extension": ".py",
   "mimetype": "text/x-python",
   "name": "python",
   "nbconvert_exporter": "python",
   "pygments_lexer": "ipython3",
   "version": "3.9.7"
  }
 },
 "nbformat": 4,
 "nbformat_minor": 5
}
