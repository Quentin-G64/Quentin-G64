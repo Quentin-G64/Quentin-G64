{
 "cells": [
  {
   "cell_type": "markdown",
   "id": "45a31f93",
   "metadata": {},
   "source": [
    "   > ## Importation des librairies:"
   ]
  },
  {
   "cell_type": "code",
   "execution_count": 1,
   "id": "67b14ecf",
   "metadata": {},
   "outputs": [],
   "source": [
    "import numpy as np\n",
    "import pandas as pd\n",
    "import matplotlib.pyplot as plt\n",
    "import seaborn as sns\n",
    "%matplotlib inline\n"
   ]
  },
  {
   "cell_type": "markdown",
   "id": "1cb2c978",
   "metadata": {},
   "source": [
    "> ## Importation des algorithmes:"
   ]
  },
  {
   "cell_type": "code",
   "execution_count": 2,
   "id": "259a153d",
   "metadata": {},
   "outputs": [],
   "source": [
    "from sklearn.cluster import KMeans"
   ]
  },
  {
   "cell_type": "markdown",
   "id": "6d9b78f5",
   "metadata": {},
   "source": [
    "> ## Importation du jeu de donnees et description:"
   ]
  },
  {
   "cell_type": "code",
   "execution_count": 3,
   "id": "94b8867b",
   "metadata": {},
   "outputs": [],
   "source": [
    "Stress = pd.read_excel (r\"C:\\Users\\Utilisateur\\Documents\\Master 2\\Machine Learning\\BDD.xlsx\")"
   ]
  },
  {
   "cell_type": "code",
   "execution_count": 4,
   "id": "a40c11eb",
   "metadata": {
    "scrolled": false
   },
   "outputs": [
    {
     "data": {
      "text/plain": [
       "<bound method NDFrame.keys of         hs      sr      rr     hr      bo     rem      lm       t  sl\n",
       "0    1.840  93.800  25.680  74.20  89.840   99.60  16.600  91.840   3\n",
       "1    1.552  91.640  25.104  72.76  89.552   98.88  15.880  91.552   3\n",
       "2    7.000  60.000  20.000  60.00  95.000   85.00  10.000  96.000   1\n",
       "3    0.768  85.760  23.536  68.84  88.768   96.92  13.920  90.768   3\n",
       "4    8.248  48.120  17.248  53.12  96.248   72.48   6.496  97.872   0\n",
       "..     ...     ...     ...    ...     ...     ...     ...     ...  ..\n",
       "625  3.440  69.600  20.960  62.40  90.960   89.80  10.960  92.960   2\n",
       "626  8.376  48.440  17.376  53.44  96.376   73.76   6.752  98.064   0\n",
       "627  0.000  97.504  27.504  78.76  84.256  101.88  17.752  86.880   4\n",
       "628  6.728  58.640  19.728  59.32  94.592   84.32   9.728  95.728   1\n",
       "629  4.088  73.920  21.392  63.48  91.392   91.96  11.392  93.392   2\n",
       "\n",
       "[630 rows x 9 columns]>"
      ]
     },
     "execution_count": 4,
     "metadata": {},
     "output_type": "execute_result"
    }
   ],
   "source": [
    "Stress.keys"
   ]
  },
  {
   "cell_type": "code",
   "execution_count": 5,
   "id": "80ae3809",
   "metadata": {},
   "outputs": [
    {
     "name": "stdout",
     "output_type": "stream",
     "text": [
      "0      93.800\n",
      "1      91.640\n",
      "2      60.000\n",
      "3      85.760\n",
      "4      48.120\n",
      "        ...  \n",
      "625    69.600\n",
      "626    48.440\n",
      "627    97.504\n",
      "628    58.640\n",
      "629    73.920\n",
      "Name: sr, Length: 630, dtype: float64\n",
      "0    3\n",
      "1    3\n",
      "2    1\n",
      "Name: sl, dtype: int64\n"
     ]
    }
   ],
   "source": [
    "print (Stress.sr)\n",
    "print (Stress.sl[0:3])"
   ]
  },
  {
   "cell_type": "code",
   "execution_count": 6,
   "id": "519e0913",
   "metadata": {
    "scrolled": true
   },
   "outputs": [
    {
     "data": {
      "text/html": [
       "<div>\n",
       "<style scoped>\n",
       "    .dataframe tbody tr th:only-of-type {\n",
       "        vertical-align: middle;\n",
       "    }\n",
       "\n",
       "    .dataframe tbody tr th {\n",
       "        vertical-align: top;\n",
       "    }\n",
       "\n",
       "    .dataframe thead th {\n",
       "        text-align: right;\n",
       "    }\n",
       "</style>\n",
       "<table border=\"1\" class=\"dataframe\">\n",
       "  <thead>\n",
       "    <tr style=\"text-align: right;\">\n",
       "      <th></th>\n",
       "      <th>hs</th>\n",
       "      <th>sr</th>\n",
       "      <th>rr</th>\n",
       "      <th>hr</th>\n",
       "      <th>bo</th>\n",
       "      <th>rem</th>\n",
       "      <th>lm</th>\n",
       "      <th>t</th>\n",
       "      <th>sl</th>\n",
       "    </tr>\n",
       "  </thead>\n",
       "  <tbody>\n",
       "    <tr>\n",
       "      <th>0</th>\n",
       "      <td>1.840</td>\n",
       "      <td>93.80</td>\n",
       "      <td>25.680</td>\n",
       "      <td>74.20</td>\n",
       "      <td>89.840</td>\n",
       "      <td>99.60</td>\n",
       "      <td>16.600</td>\n",
       "      <td>91.840</td>\n",
       "      <td>3</td>\n",
       "    </tr>\n",
       "    <tr>\n",
       "      <th>1</th>\n",
       "      <td>1.552</td>\n",
       "      <td>91.64</td>\n",
       "      <td>25.104</td>\n",
       "      <td>72.76</td>\n",
       "      <td>89.552</td>\n",
       "      <td>98.88</td>\n",
       "      <td>15.880</td>\n",
       "      <td>91.552</td>\n",
       "      <td>3</td>\n",
       "    </tr>\n",
       "    <tr>\n",
       "      <th>2</th>\n",
       "      <td>7.000</td>\n",
       "      <td>60.00</td>\n",
       "      <td>20.000</td>\n",
       "      <td>60.00</td>\n",
       "      <td>95.000</td>\n",
       "      <td>85.00</td>\n",
       "      <td>10.000</td>\n",
       "      <td>96.000</td>\n",
       "      <td>1</td>\n",
       "    </tr>\n",
       "    <tr>\n",
       "      <th>3</th>\n",
       "      <td>0.768</td>\n",
       "      <td>85.76</td>\n",
       "      <td>23.536</td>\n",
       "      <td>68.84</td>\n",
       "      <td>88.768</td>\n",
       "      <td>96.92</td>\n",
       "      <td>13.920</td>\n",
       "      <td>90.768</td>\n",
       "      <td>3</td>\n",
       "    </tr>\n",
       "    <tr>\n",
       "      <th>4</th>\n",
       "      <td>8.248</td>\n",
       "      <td>48.12</td>\n",
       "      <td>17.248</td>\n",
       "      <td>53.12</td>\n",
       "      <td>96.248</td>\n",
       "      <td>72.48</td>\n",
       "      <td>6.496</td>\n",
       "      <td>97.872</td>\n",
       "      <td>0</td>\n",
       "    </tr>\n",
       "  </tbody>\n",
       "</table>\n",
       "</div>"
      ],
      "text/plain": [
       "      hs     sr      rr     hr      bo    rem      lm       t  sl\n",
       "0  1.840  93.80  25.680  74.20  89.840  99.60  16.600  91.840   3\n",
       "1  1.552  91.64  25.104  72.76  89.552  98.88  15.880  91.552   3\n",
       "2  7.000  60.00  20.000  60.00  95.000  85.00  10.000  96.000   1\n",
       "3  0.768  85.76  23.536  68.84  88.768  96.92  13.920  90.768   3\n",
       "4  8.248  48.12  17.248  53.12  96.248  72.48   6.496  97.872   0"
      ]
     },
     "execution_count": 6,
     "metadata": {},
     "output_type": "execute_result"
    }
   ],
   "source": [
    "Stress.head()"
   ]
  },
  {
   "cell_type": "code",
   "execution_count": 7,
   "id": "97c2bc7e",
   "metadata": {},
   "outputs": [
    {
     "name": "stdout",
     "output_type": "stream",
     "text": [
      "Index(['hs', 'sr', 'rr', 'hr', 'bo', 'rem', 'lm', 't', 'sl'], dtype='object')\n"
     ]
    }
   ],
   "source": [
    "print(Stress.columns)"
   ]
  },
  {
   "cell_type": "code",
   "execution_count": 8,
   "id": "d7b95b17",
   "metadata": {},
   "outputs": [
    {
     "data": {
      "text/html": [
       "<div>\n",
       "<style scoped>\n",
       "    .dataframe tbody tr th:only-of-type {\n",
       "        vertical-align: middle;\n",
       "    }\n",
       "\n",
       "    .dataframe tbody tr th {\n",
       "        vertical-align: top;\n",
       "    }\n",
       "\n",
       "    .dataframe thead th {\n",
       "        text-align: right;\n",
       "    }\n",
       "</style>\n",
       "<table border=\"1\" class=\"dataframe\">\n",
       "  <thead>\n",
       "    <tr style=\"text-align: right;\">\n",
       "      <th></th>\n",
       "      <th>hs</th>\n",
       "      <th>sr</th>\n",
       "      <th>rr</th>\n",
       "      <th>hr</th>\n",
       "      <th>bo</th>\n",
       "      <th>rem</th>\n",
       "      <th>lm</th>\n",
       "      <th>t</th>\n",
       "      <th>sl</th>\n",
       "    </tr>\n",
       "  </thead>\n",
       "  <tbody>\n",
       "    <tr>\n",
       "      <th>count</th>\n",
       "      <td>630.000000</td>\n",
       "      <td>630.000000</td>\n",
       "      <td>630.000000</td>\n",
       "      <td>630.000000</td>\n",
       "      <td>630.000000</td>\n",
       "      <td>630.000000</td>\n",
       "      <td>630.000000</td>\n",
       "      <td>630.00000</td>\n",
       "      <td>630.000000</td>\n",
       "    </tr>\n",
       "    <tr>\n",
       "      <th>mean</th>\n",
       "      <td>3.700000</td>\n",
       "      <td>71.600000</td>\n",
       "      <td>21.800000</td>\n",
       "      <td>64.500000</td>\n",
       "      <td>90.900000</td>\n",
       "      <td>88.500000</td>\n",
       "      <td>11.700000</td>\n",
       "      <td>92.80000</td>\n",
       "      <td>2.000000</td>\n",
       "    </tr>\n",
       "    <tr>\n",
       "      <th>std</th>\n",
       "      <td>3.054572</td>\n",
       "      <td>19.372833</td>\n",
       "      <td>3.966111</td>\n",
       "      <td>9.915277</td>\n",
       "      <td>3.902483</td>\n",
       "      <td>11.893747</td>\n",
       "      <td>4.299629</td>\n",
       "      <td>3.52969</td>\n",
       "      <td>1.415337</td>\n",
       "    </tr>\n",
       "    <tr>\n",
       "      <th>min</th>\n",
       "      <td>0.000000</td>\n",
       "      <td>45.000000</td>\n",
       "      <td>16.000000</td>\n",
       "      <td>50.000000</td>\n",
       "      <td>82.000000</td>\n",
       "      <td>60.000000</td>\n",
       "      <td>4.000000</td>\n",
       "      <td>85.00000</td>\n",
       "      <td>0.000000</td>\n",
       "    </tr>\n",
       "    <tr>\n",
       "      <th>25%</th>\n",
       "      <td>0.500000</td>\n",
       "      <td>52.500000</td>\n",
       "      <td>18.500000</td>\n",
       "      <td>56.250000</td>\n",
       "      <td>88.500000</td>\n",
       "      <td>81.250000</td>\n",
       "      <td>8.500000</td>\n",
       "      <td>90.50000</td>\n",
       "      <td>1.000000</td>\n",
       "    </tr>\n",
       "    <tr>\n",
       "      <th>50%</th>\n",
       "      <td>3.500000</td>\n",
       "      <td>70.000000</td>\n",
       "      <td>21.000000</td>\n",
       "      <td>62.500000</td>\n",
       "      <td>91.000000</td>\n",
       "      <td>90.000000</td>\n",
       "      <td>11.000000</td>\n",
       "      <td>93.00000</td>\n",
       "      <td>2.000000</td>\n",
       "    </tr>\n",
       "    <tr>\n",
       "      <th>75%</th>\n",
       "      <td>6.500000</td>\n",
       "      <td>91.250000</td>\n",
       "      <td>25.000000</td>\n",
       "      <td>72.500000</td>\n",
       "      <td>94.250000</td>\n",
       "      <td>98.750000</td>\n",
       "      <td>15.750000</td>\n",
       "      <td>95.50000</td>\n",
       "      <td>3.000000</td>\n",
       "    </tr>\n",
       "    <tr>\n",
       "      <th>max</th>\n",
       "      <td>9.000000</td>\n",
       "      <td>100.000000</td>\n",
       "      <td>30.000000</td>\n",
       "      <td>85.000000</td>\n",
       "      <td>97.000000</td>\n",
       "      <td>105.000000</td>\n",
       "      <td>19.000000</td>\n",
       "      <td>99.00000</td>\n",
       "      <td>4.000000</td>\n",
       "    </tr>\n",
       "  </tbody>\n",
       "</table>\n",
       "</div>"
      ],
      "text/plain": [
       "               hs          sr          rr          hr          bo         rem  \\\n",
       "count  630.000000  630.000000  630.000000  630.000000  630.000000  630.000000   \n",
       "mean     3.700000   71.600000   21.800000   64.500000   90.900000   88.500000   \n",
       "std      3.054572   19.372833    3.966111    9.915277    3.902483   11.893747   \n",
       "min      0.000000   45.000000   16.000000   50.000000   82.000000   60.000000   \n",
       "25%      0.500000   52.500000   18.500000   56.250000   88.500000   81.250000   \n",
       "50%      3.500000   70.000000   21.000000   62.500000   91.000000   90.000000   \n",
       "75%      6.500000   91.250000   25.000000   72.500000   94.250000   98.750000   \n",
       "max      9.000000  100.000000   30.000000   85.000000   97.000000  105.000000   \n",
       "\n",
       "               lm          t          sl  \n",
       "count  630.000000  630.00000  630.000000  \n",
       "mean    11.700000   92.80000    2.000000  \n",
       "std      4.299629    3.52969    1.415337  \n",
       "min      4.000000   85.00000    0.000000  \n",
       "25%      8.500000   90.50000    1.000000  \n",
       "50%     11.000000   93.00000    2.000000  \n",
       "75%     15.750000   95.50000    3.000000  \n",
       "max     19.000000   99.00000    4.000000  "
      ]
     },
     "execution_count": 8,
     "metadata": {},
     "output_type": "execute_result"
    }
   ],
   "source": [
    "Stress.describe()"
   ]
  },
  {
   "cell_type": "code",
   "execution_count": 9,
   "id": "5b8116cb",
   "metadata": {},
   "outputs": [],
   "source": [
    "x = Stress[['hs','sr','rr','hr','bo', 'rem', 'lm', 't','sl']]\n"
   ]
  },
  {
   "cell_type": "code",
   "execution_count": 10,
   "id": "a663c4b7",
   "metadata": {
    "scrolled": false
   },
   "outputs": [
    {
     "name": "stdout",
     "output_type": "stream",
     "text": [
      "        hs      sr      rr     hr      bo     rem      lm       t  sl\n",
      "0    1.840  93.800  25.680  74.20  89.840   99.60  16.600  91.840   3\n",
      "1    1.552  91.640  25.104  72.76  89.552   98.88  15.880  91.552   3\n",
      "2    7.000  60.000  20.000  60.00  95.000   85.00  10.000  96.000   1\n",
      "3    0.768  85.760  23.536  68.84  88.768   96.92  13.920  90.768   3\n",
      "4    8.248  48.120  17.248  53.12  96.248   72.48   6.496  97.872   0\n",
      "..     ...     ...     ...    ...     ...     ...     ...     ...  ..\n",
      "625  3.440  69.600  20.960  62.40  90.960   89.80  10.960  92.960   2\n",
      "626  8.376  48.440  17.376  53.44  96.376   73.76   6.752  98.064   0\n",
      "627  0.000  97.504  27.504  78.76  84.256  101.88  17.752  86.880   4\n",
      "628  6.728  58.640  19.728  59.32  94.592   84.32   9.728  95.728   1\n",
      "629  4.088  73.920  21.392  63.48  91.392   91.96  11.392  93.392   2\n",
      "\n",
      "[630 rows x 9 columns]\n"
     ]
    }
   ],
   "source": [
    "print(x)"
   ]
  },
  {
   "cell_type": "code",
   "execution_count": 11,
   "id": "010ae93c",
   "metadata": {},
   "outputs": [],
   "source": [
    "from sklearn.preprocessing import normalize"
   ]
  },
  {
   "cell_type": "code",
   "execution_count": 43,
   "id": "1552f287",
   "metadata": {},
   "outputs": [],
   "source": [
    "Xs = normalize(x)"
   ]
  },
  {
   "cell_type": "code",
   "execution_count": 52,
   "id": "2a990ddd",
   "metadata": {
    "scrolled": false
   },
   "outputs": [
    {
     "name": "stdout",
     "output_type": "stream",
     "text": [
      "[[0.00901296 0.45946477 0.1257895  ... 0.08131253 0.44986402 0.01469504]\n",
      " [0.00768691 0.45388431 0.12433775 ... 0.07865215 0.45344845 0.01485872]\n",
      " [0.03840824 0.32921346 0.10973782 ... 0.05486891 0.52674154 0.00548689]\n",
      " ...\n",
      " [0.         0.47676787 0.13448703 ... 0.08680242 0.42481942 0.01955891]\n",
      " [0.03720083 0.3242355  0.10908114 ... 0.05378859 0.5293045  0.00552925]\n",
      " [0.02165626 0.39159272 0.11332456 ... 0.06034935 0.49474605 0.01059504]]\n"
     ]
    }
   ],
   "source": [
    "print(Xs)"
   ]
  },
  {
   "cell_type": "code",
   "execution_count": null,
   "id": "416859c2",
   "metadata": {
    "scrolled": true
   },
   "outputs": [],
   "source": [
    "sns.pairplot(Xs, kind='reg')"
   ]
  },
  {
   "cell_type": "markdown",
   "id": "7b4efd22",
   "metadata": {},
   "source": [
    "> ## K-Means "
   ]
  },
  {
   "cell_type": "code",
   "execution_count": 54,
   "id": "e95ebdbc",
   "metadata": {},
   "outputs": [
    {
     "name": "stderr",
     "output_type": "stream",
     "text": [
      "C:\\Users\\Utilisateur\\anaconda3\\lib\\site-packages\\sklearn\\cluster\\_kmeans.py:881: UserWarning: KMeans is known to have a memory leak on Windows with MKL, when there are less chunks than available threads. You can avoid it by setting the environment variable OMP_NUM_THREADS=3.\n",
      "  warnings.warn(\n"
     ]
    },
    {
     "data": {
      "image/png": "[encoded data removed]",
      "text/plain": [
       "<Figure size 432x288 with 1 Axes>"
      ]
     },
     "metadata": {},
     "output_type": "display_data"
    }
   ],
   "source": [
    "plt.figure(facecolor='white')\n",
    "ax = plt.axes()\n",
    "ax.set_facecolor(\"white\")\n",
    "\n",
    "wcss = []\n",
    "for i in range(1, 9):\n",
    "    OptK = KMeans(n_clusters=i, init = 'k-means++', max_iter = 100, n_init = 5, random_state = 0)\n",
    "    OptK.fit(Xs)\n",
    "    wcss.append(OptK.inertia_)\n",
    "    \n",
    "plt.plot(range(1, 9), wcss)\n",
    "plt.title('Elbow Method')\n",
    "plt.xlabel('Nombre de K')\n",
    "plt.ylabel('WCSS')\n",
    "plt.show() \n",
    "    \n",
    "    \n",
    "    #Valeur optimale de K = 2 "
   ]
  },
  {
   "cell_type": "code",
   "execution_count": 14,
   "id": "57d8b5de",
   "metadata": {},
   "outputs": [
    {
     "data": {
      "text/plain": [
       "KMeans(n_clusters=2)"
      ]
     },
     "execution_count": 14,
     "metadata": {},
     "output_type": "execute_result"
    }
   ],
   "source": [
    "k_mean2 = KMeans(n_clusters=2)\n",
    "k_mean2.fit(Xs)"
   ]
  },
  {
   "cell_type": "code",
   "execution_count": 15,
   "id": "d61d5966",
   "metadata": {},
   "outputs": [
    {
     "name": "stdout",
     "output_type": "stream",
     "text": [
      "[1 1 0 1 0 0 0 0 0 0 1 0 0 1 1 0 0 1 1 0 1 1 1 1 1 0 1 0 1 0 0 1 0 1 0 1 0\n",
      " 1 0 1 0 0 1 0 1 1 0 1 0 1 0 0 1 0 0 1 1 1 1 0 1 1 0 0 1 0 0 0 1 0 0 1 0 0\n",
      " 0 1 1 0 1 1 0 0 0 1 0 0 0 0 1 1 0 1 0 1 0 0 1 1 1 1 1 1 0 1 0 0 0 1 1 0 0\n",
      " 1 0 1 0 1 0 1 0 0 0 1 1 0 1 1 1 0 0 1 0 0 1 1 0 0 0 1 1 0 1 1 1 0 0 0 0 0\n",
      " 0 0 1 0 1 1 0 0 1 1 1 1 1 1 0 0 1 1 0 0 1 1 0 1 1 0 0 0 0 1 1 0 0 0 1 0 0\n",
      " 0 0 1 0 1 0 0 1 1 1 0 0 0 0 1 0 0 0 1 1 0 0 1 0 0 0 1 0 0 1 1 0 1 0 0 0 1\n",
      " 0 0 1 1 0 0 1 0 1 1 0 1 0 0 1 1 1 0 1 1 1 1 1 0 1 1 1 1 0 1 0 1 0 1 1 1 1\n",
      " 0 1 1 1 0 0 0 1 1 1 1 1 1 0 0 1 0 1 1 1 1 1 1 0 1 0 0 1 1 1 0 1 0 1 0 1 0\n",
      " 0 0 1 0 1 0 0 1 0 0 1 1 1 0 1 1 0 0 0 0 1 1 1 0 1 1 1 1 1 1 0 1 0 1 1 0 0\n",
      " 1 1 0 0 0 0 1 0 0 0 1 1 1 0 0 1 1 1 1 1 1 1 1 0 1 0 1 1 0 0 1 1 0 1 0 0 1\n",
      " 1 1 0 0 1 0 1 1 0 0 1 0 0 0 1 0 0 0 1 0 1 0 1 0 1 0 0 1 1 1 1 1 1 1 0 1 0\n",
      " 1 1 1 0 1 1 0 0 0 0 1 1 0 0 1 1 0 0 0 0 0 1 0 1 0 0 1 1 1 1 1 1 0 1 0 0 0\n",
      " 0 1 1 1 0 0 0 1 0 1 0 0 0 0 1 1 1 0 1 0 1 0 1 1 1 0 0 0 1 0 0 1 0 0 0 1 0\n",
      " 0 1 0 0 1 0 1 0 1 0 1 0 0 1 0 0 0 0 1 0 1 1 0 0 1 0 1 1 0 1 1 0 0 0 1 0 0\n",
      " 0 0 0 0 1 0 1 0 1 1 1 1 1 0 1 0 0 0 0 1 1 1 0 0 1 1 1 1 0 1 0 1 0 1 0 0 1\n",
      " 1 1 1 1 0 0 0 1 1 1 0 1 1 1 1 1 1 0 0 0 1 1 1 1 1 0 1 1 0 1 1 0 0 0 0 1 0\n",
      " 0 0 1 0 1 0 1 1 1 0 0 0 0 1 1 0 0 0 1 1 1 1 0 1 0 1 0 0 1 0 0 1 0 0 0 1 0\n",
      " 1]\n"
     ]
    },
    {
     "data": {
      "text/plain": [
       "array([[0.03540651, 0.30669837, 0.10531889, 0.32040989, 0.53659442,\n",
       "        0.44649287, 0.04580899, 0.54569291, 0.004423  ],\n",
       "       [0.00655675, 0.44572318, 0.12542014, 0.36376881, 0.44182705,\n",
       "        0.49365665, 0.07621588, 0.45284566, 0.01591214]])"
      ]
     },
     "execution_count": 15,
     "metadata": {},
     "output_type": "execute_result"
    }
   ],
   "source": [
    "labels_2 = k_mean2.labels_\n",
    "print (labels_2)\n",
    "\n",
    "clusters_2 = k_mean2.cluster_centers_\n",
    "clusters_2\n",
    "       \n",
    "       "
   ]
  },
  {
   "cell_type": "code",
   "execution_count": 16,
   "id": "e75d2be9",
   "metadata": {},
   "outputs": [
    {
     "data": {
      "text/plain": [
       "0.6370851967334659"
      ]
     },
     "execution_count": 16,
     "metadata": {},
     "output_type": "execute_result"
    }
   ],
   "source": [
    "from sklearn.metrics import silhouette_score\n",
    "silhouette_score(Xs, labels_2)"
   ]
  },
  {
   "cell_type": "code",
   "execution_count": 48,
   "id": "a8ec6fbf",
   "metadata": {
    "scrolled": true
   },
   "outputs": [
    {
     "data": {
      "text/plain": [
       "Text(0, 0.5, 'Niveau de stress')"
      ]
     },
     "execution_count": 48,
     "metadata": {},
     "output_type": "execute_result"
    },
    {
     "data": {
      "image/png": "[encoded data removed]",
      "text/plain": [
       "<Figure size 432x288 with 1 Axes>"
      ]
     },
     "metadata": {},
     "output_type": "display_data"
    }
   ],
   "source": [
    "plt.figure(facecolor='white')\n",
    "ax = plt.axes()\n",
    "ax.set_facecolor(\"white\")\n",
    "plt.scatter(Xs[:,0],Xs[:,8], c=k_mean2.labels_, cmap='rainbow')\n",
    "plt.title (\"Stress en fonction de la durée du sommeil\")\n",
    "plt.xlabel(\"Durée du sommeil\")\n",
    "plt.ylabel(\"Niveau de stress\")\n",
    "\n",
    "# 2 clusters bases sur la durée du sommeil & niveau de stress "
   ]
  },
  {
   "cell_type": "code",
   "execution_count": 49,
   "id": "2e445a07",
   "metadata": {},
   "outputs": [
    {
     "data": {
      "text/plain": [
       "Text(0, 0.5, 'Niveau de stress')"
      ]
     },
     "execution_count": 49,
     "metadata": {},
     "output_type": "execute_result"
    },
    {
     "data": {
      "image/png": "[encoded data removed]",
      "text/plain": [
       "<Figure size 432x288 with 1 Axes>"
      ]
     },
     "metadata": {},
     "output_type": "display_data"
    }
   ],
   "source": [
    "plt.figure(facecolor='white')\n",
    "ax = plt.axes()\n",
    "ax.set_facecolor(\"white\")\n",
    "plt.scatter(Xs[:,1],Xs[:,8], c=k_mean2.labels_, cmap='rainbow')\n",
    "plt.title (\"Stress en fonction des ronflements\")\n",
    "plt.xlabel(\"Ronflement\")\n",
    "plt.ylabel(\"Niveau de stress\")\n",
    "\n",
    "# 2 clusters bases sur la durée du sommeil & niveau de stress "
   ]
  },
  {
   "cell_type": "code",
   "execution_count": 50,
   "id": "08d99cf1",
   "metadata": {},
   "outputs": [
    {
     "data": {
      "text/plain": [
       "Text(0, 0.5, 'Niveau de stress')"
      ]
     },
     "execution_count": 50,
     "metadata": {},
     "output_type": "execute_result"
    },
    {
     "data": {
      "image/png": "[encoded data removed]",
      "text/plain": [
       "<Figure size 432x288 with 1 Axes>"
      ]
     },
     "metadata": {},
     "output_type": "display_data"
    }
   ],
   "source": [
    "plt.figure(facecolor='white')\n",
    "ax = plt.axes()\n",
    "ax.set_facecolor(\"white\")\n",
    "plt.scatter(Xs[:,7], Xs[:,8], c=k_mean2.labels_, cmap='rainbow')\n",
    "plt.title (\"Stress en fonction de la température\")\n",
    "plt.xlabel(\"Température\")\n",
    "plt.ylabel(\"Niveau de stress\")\n",
    "\n",
    "#En dessous de 0.5 le niveau de stress augmente. "
   ]
  },
  {
   "cell_type": "code",
   "execution_count": 73,
   "id": "9cd72164",
   "metadata": {},
   "outputs": [
    {
     "data": {
      "text/plain": [
       "Text(0, 0.5, 'Niveau de stress')"
      ]
     },
     "execution_count": 73,
     "metadata": {},
     "output_type": "execute_result"
    },
    {
     "data": {
      "image/png": "[encoded data removed]",
      "text/plain": [
       "<Figure size 432x288 with 1 Axes>"
      ]
     },
     "metadata": {},
     "output_type": "display_data"
    }
   ],
   "source": [
    "plt.figure(facecolor='white')\n",
    "ax = plt.axes()\n",
    "ax.set_facecolor(\"white\")\n",
    "plt.scatter(Xs[:,0],Xs[:,7], Xs[:,8], c=k_mean2.labels_, cmap='hsv')\n",
    "plt.title (\"Stress en fonction de la température\")\n",
    "plt.xlabel(\"Température\")\n",
    "plt.ylabel(\"Niveau de stress\")"
   ]
  },
  {
   "cell_type": "code",
   "execution_count": 68,
   "id": "c266e7c4",
   "metadata": {},
   "outputs": [],
   "source": [
    "X=Stress.to_numpy()"
   ]
  },
  {
   "cell_type": "code",
   "execution_count": 75,
   "id": "701f7398",
   "metadata": {},
   "outputs": [
    {
     "data": {
      "text/plain": [
       "Text(0, 0.5, 'Niveau de stress')"
      ]
     },
     "execution_count": 75,
     "metadata": {},
     "output_type": "execute_result"
    },
    {
     "data": {
      "image/png": "[encoded data removed]",
      "text/plain": [
       "<Figure size 432x288 with 1 Axes>"
      ]
     },
     "metadata": {},
     "output_type": "display_data"
    }
   ],
   "source": [
    "xk_mean2 = KMeans(n_clusters=2)\n",
    "xk_mean2.fit(X)\n",
    "\n",
    "plt.figure(facecolor='white')\n",
    "ax = plt.axes()\n",
    "ax.set_facecolor(\"white\")\n",
    "plt.scatter(X[:,0],X[:,8], c=xk_mean2.labels_, cmap='rainbow')\n",
    "plt.title (\"Stress en fonction de la durée du sommeil\")\n",
    "plt.xlabel(\"Durée du sommeil en h\")\n",
    "plt.ylabel(\"Niveau de stress\")\n"
   ]
  },
  {
   "cell_type": "code",
   "execution_count": null,
   "id": "3ee5a30a",
   "metadata": {},
   "outputs": [],
   "source": []
  }
 ],
 "metadata": {
  "kernelspec": {
   "display_name": "Python 3 (ipykernel)",
   "language": "python",
   "name": "python3"
  },
  "language_info": {
   "codemirror_mode": {
    "name": "ipython",
    "version": 3
   },
   "file_extension": ".py",
   "mimetype": "text/x-python",
   "name": "python",
   "nbconvert_exporter": "python",
   "pygments_lexer": "ipython3",
   "version": "3.9.7"
  }
 },
 "nbformat": 4,
 "nbformat_minor": 5
}
